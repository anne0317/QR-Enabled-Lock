#Including or importing all modules 
import cv2 
import numpy as np 
import pyzbar.pyzbar as pyzbar 
#here we used VideoCapture to start video capturing 
cap = cv2.VideoCapture(0) 
#setting frame size 
cap.set(3,640) 
cap.set(4,480) 
#setting the font on screen frame 
font = cv2.FONT_HERSHEY_PLAIN 
#using string variable to store the decoded qr code 
str="" 
#running an infinite loop to read the qr code 
while True: 
  success,frame = cap.read() 
#here the qr decode using decode() function and stored all data in decodedobjects 
  decodedObjects = pyzbar.decode(frame) 
#We are taking variable and using that variable we are printing decoded one 
  for obj in decodedObjects:
    str=obj.data.decode('utf-8') 
    print("DECODED QR CODE IS",str) 
    cv2.putText(frame, str(obj.data), (50, 50), font, 2,(255, 0, 0), 3) 
  cv2.imshow("Frame", frame) 
#wait key is used to stop running of the code 
  key = cv2.waitKey(0) 
  if key == 27: 
    break 
